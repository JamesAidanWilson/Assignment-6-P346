{
 "cells": [
  {
   "cell_type": "code",
   "execution_count": 91,
   "metadata": {},
   "outputs": [],
   "source": [
    "import math\n",
    "\n",
    "def f1(x):\n",
    "    return math.sqrt(1 + (1/x))\n",
    "\n",
    "def f2(x):\n",
    "    return x*math.sqrt(1 + x)\n",
    "\n",
    "def f3(x):\n",
    "    return 4/(1 + x**2)"
   ]
  },
  {
   "cell_type": "code",
   "execution_count": 105,
   "metadata": {},
   "outputs": [
    {
     "name": "stdout",
     "output_type": "stream",
     "text": [
      "3.619709761707181\n"
     ]
    },
    {
     "data": {
      "text/plain": [
       "0.6437870842772188"
      ]
     },
     "execution_count": 105,
     "metadata": {},
     "output_type": "execute_result"
    }
   ],
   "source": [
    "def Int_Midpoint(f,a,b,N):\n",
    "    h = float((b-a)/N)\n",
    "    i = 0\n",
    "    I = 0\n",
    "    while i != N:\n",
    "        I += f(a + h*(1 + 2*i)/2)*h\n",
    "        i += 1\n",
    "    return I\n",
    "\n",
    "print(Int_Midpoint(f1,1,4,16))\n",
    "Int_Midpoint(f2,0,1,100)"
   ]
  },
  {
   "cell_type": "code",
   "execution_count": 47,
   "metadata": {},
   "outputs": [
    {
     "data": {
      "text/plain": [
       "0.6437966813497789"
      ]
     },
     "execution_count": 47,
     "metadata": {},
     "output_type": "execute_result"
    }
   ],
   "source": [
    "def Int_Trapezoid(f,a,b,N):\n",
    "    h = float((b-a)/N)\n",
    "    i = 0\n",
    "    I = 0\n",
    "    while i != N:\n",
    "        I += (h/2)*(f(a + i*h) + f(a + (i + 1)*h))\n",
    "        i += 1\n",
    "    return I\n",
    "\n",
    "Int_Trapezoid(f1,1,4,16)\n",
    "Int_Trapezoid(f2,0,1,100)"
   ]
  },
  {
   "cell_type": "code",
   "execution_count": 52,
   "metadata": {},
   "outputs": [
    {
     "data": {
      "text/plain": [
       "0.6437902833301071"
      ]
     },
     "execution_count": 52,
     "metadata": {},
     "output_type": "execute_result"
    }
   ],
   "source": [
    "def Int_Simpson(f,a,b,N):\n",
    "    h = float((b-a)/N)\n",
    "    F = f(a) + f(b)\n",
    "\n",
    "    for i in range(N):\n",
    "        if i%2 == 0:\n",
    "            F += 2*f(a + i*h)\n",
    "        else:\n",
    "            F += 4*f(a + i*h)\n",
    "    I = F*(h/3)\n",
    "    return I\n",
    "\n",
    "Int_Simpson(f1,1,4,16)\n",
    "Int_Simpson(f2,0,1,100)"
   ]
  },
  {
   "cell_type": "code",
   "execution_count": 51,
   "metadata": {},
   "outputs": [
    {
     "name": "stdout",
     "output_type": "stream",
     "text": [
      "[2.0, 3.0, 4.0, 6.0, 7.0] 10.0\n"
     ]
    }
   ],
   "source": [
    "j = [1,2,3,5]\n",
    "\n",
    "def trial(a,b,c,d,e):\n",
    "    j = []\n",
    "    j.append(float(a))\n",
    "    j.append(float(b))\n",
    "    j.append(float(c))\n",
    "    j.append(float(d))\n",
    "    j.append(float(e))\n",
    "    return j\n",
    "\n",
    "P = trial(2,3,4,6,7)\n",
    "\n",
    "print(P, P[1]+P[4])"
   ]
  },
  {
   "cell_type": "code",
   "execution_count": 158,
   "metadata": {},
   "outputs": [
    {
     "name": "stdout",
     "output_type": "stream",
     "text": [
      "3.143098738654853\n",
      "[' for N = 4']\n"
     ]
    }
   ],
   "source": [
    "import random\n",
    "\n",
    "def Int_MonteCarlo(f,a,b,N):\n",
    "    pdf = []\n",
    "    for i in range(N):\n",
    "        pdf.append(random.random())\n",
    "    \n",
    "    F = 0\n",
    "\n",
    "    for i in range(len(pdf)):\n",
    "        u = a + (b-a)*pdf[i]\n",
    "        F += f(u)\n",
    "    I = float(((b-a)*F)/N)\n",
    "    return I\n",
    "\n",
    "print(Int_MonteCarlo(f3,0,1,10000))\n",
    "\n",
    "j = []\n",
    "j.append(\" for N = \" + str(4))\n",
    "print(j)\n",
    "\n"
   ]
  },
  {
   "cell_type": "code",
   "execution_count": 127,
   "metadata": {},
   "outputs": [
    {
     "name": "stdout",
     "output_type": "stream",
     "text": [
      "  N    Midpoint    Trapezoid    Simpson\n",
      "---  ----------  -----------  ---------\n",
      "  8     3.61831      3.62396    3.97388\n",
      " 16     3.61971      3.62114    3.79697\n",
      " 24     3.61997      3.62061    3.73804 \n",
      " The analytical value iz 3.62018.\n"
     ]
    }
   ],
   "source": [
    "def Q1():\n",
    "    from tabulate import tabulate\n",
    "\n",
    "    Mid = []; Trap = []; Simp = []\n",
    "\n",
    "    for i in range(1,4):\n",
    "        Mid.append(Int_Midpoint(f1,1,4,8*i))\n",
    "        Trap.append(Int_Trapezoid(f1,1,4,8*i))\n",
    "        Simp.append(Int_Simpson(f1,1,4,8*i))\n",
    "\n",
    "    table = [[8,Mid[0],Trap[0],Simp[0]],[16,Mid[1],Trap[1],Simp[1]],[24,Mid[2],Trap[2],Simp[2]]]\n",
    "    head = [\"N\",\"Midpoint\",\"Trapezoid\",\"Simpson\"]\n",
    "\n",
    "    print(tabulate(table,head), \"\\n\", \"The analytical value iz 3.62018.\")\n",
    "    \n",
    "Q1()\n",
    "    \n",
    "    \n"
   ]
  },
  {
   "cell_type": "code",
   "execution_count": 193,
   "metadata": {},
   "outputs": [
    {
     "name": "stdout",
     "output_type": "stream",
     "text": [
      "0.6436795982688696 by Midpoint \n",
      " 0.6438926502675922 by Trapezoid \n",
      " 0.6437905866263318 By Simpson\n"
     ]
    }
   ],
   "source": [
    "# Question 2\n",
    "def Q2():\n",
    "    val = 0.64379\n",
    "    i = 1\n",
    "    I_Mid = 0; I_Trap = 0; I_Simp = Int_Simpson(f2,0,1,10)\n",
    "    while abs(val - Int_Midpoint(f2,0,1,i)) >= 0.0001:\n",
    "        I_Mid = Int_Midpoint(f2,0,1,i)\n",
    "        i += 1\n",
    "    while abs(val - Int_Trapezoid(f2,0,1,i)) >= 0.0001:\n",
    "        I_Trap = Int_Trapezoid(f2,0,1,i)\n",
    "        i += 1\n",
    "    print(I_Mid,\"by Midpoint \\n\", I_Trap,\"by Trapezoid \\n\",I_Simp,\"By Simpson\")\n",
    "\n",
    "Q2()\n"
   ]
  },
  {
   "cell_type": "code",
   "execution_count": 200,
   "metadata": {},
   "outputs": [
    {
     "name": "stdout",
     "output_type": "stream",
     "text": [
      "The value of pi as obtained by the Monte-Carlo method is 3.1387122789808464\n"
     ]
    },
    {
     "data": {
      "image/png": "[encoded data removed]",
      "text/plain": [
       "<Figure size 432x288 with 1 Axes>"
      ]
     },
     "metadata": {
      "needs_background": "light"
     },
     "output_type": "display_data"
    }
   ],
   "source": [
    "# Question 3\n",
    "\n",
    "def Q3():\n",
    "    from matplotlib import pyplot as graph\n",
    "    N = 10\n",
    "    A = []; B = []\n",
    "    \n",
    "    while N <= 10000:\n",
    "        A.append(Int_MonteCarlo(f3,0,1,N))\n",
    "        B.append(N)\n",
    "        N += 10\n",
    "    \n",
    "    print(\"The value of pi as obtained by the Monte-Carlo method is\",A[-1])\n",
    "\n",
    "    graph.plot(B,A)\n",
    "    graph.xlabel(\"Number of sub-intervals N\")\n",
    "    graph.ylabel(\"Values of the Integral\")\n",
    "\n",
    "    \n",
    "\n",
    "\n",
    "Q3()\n",
    "    \n",
    "\n",
    "        "
   ]
  },
  {
   "cell_type": "code",
   "execution_count": 174,
   "metadata": {},
   "outputs": [
    {
     "name": "stdout",
     "output_type": "stream",
     "text": [
      "The C.O.M of mass of the beam as by the numerical integration methods is:\n",
      "1.4999999062499931 by Midpoint\n",
      "1.500000187499973 By Trapezoid\n",
      "1.5000000000000004 By Simpson\n",
      "1.5020804775755463 By Monte-Carlo\n"
     ]
    }
   ],
   "source": [
    "def den(x):\n",
    "    return x**2\n",
    "def num(x):\n",
    "    return x**3\n",
    "\n",
    "def Q4():\n",
    "\n",
    "    print(\"The C.O.M of mass of the beam as by the numerical integration methods is:\")\n",
    "\n",
    "    p = Int_Midpoint(num,0,2,2000)\n",
    "    q = Int_Midpoint(den,0,2,2000)\n",
    "    print(p/q, \"by Midpoint\")\n",
    "\n",
    "    r = Int_Trapezoid(num,0,2,2000)\n",
    "    s = Int_Trapezoid(den,0,2,2000)\n",
    "    print(r/s, \"By Trapezoid\")\n",
    "\n",
    "    u = Int_Simpson(num,0,2,2000)\n",
    "    v = Int_Simpson(den,0,2,2000)\n",
    "    print(u/v, \"By Simpson\")\n",
    "\n",
    "    x = Int_MonteCarlo(num,0,2,200000)\n",
    "    y = Int_MonteCarlo(den,0,2,200000)\n",
    "    print(x/y, \"By Monte-Carlo\")\n",
    "Q4()"
   ]
  }
 ],
 "metadata": {
  "interpreter": {
   "hash": "a10fe58052d53de2f628fe753df202ab061ed00aa63930584c0feb86b9c4bc70"
  },
  "kernelspec": {
   "display_name": "Python 3.7.4 32-bit",
   "name": "python3"
  },
  "language_info": {
   "codemirror_mode": {
    "name": "ipython",
    "version": 3
   },
   "file_extension": ".py",
   "mimetype": "text/x-python",
   "name": "python",
   "nbconvert_exporter": "python",
   "pygments_lexer": "ipython3",
   "version": "3.7.4"
  },
  "orig_nbformat": 4
 },
 "nbformat": 4,
 "nbformat_minor": 2
}
